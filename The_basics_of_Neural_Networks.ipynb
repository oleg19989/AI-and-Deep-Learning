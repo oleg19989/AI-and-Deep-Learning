{
  "cells": [
    {
      "cell_type": "markdown",
      "source": [
        "The following mini-project aims to create the most basic Neural Network (without any hypertuning parameters and fancy techniques) using Functional API. The code can be used to build up on and improve the model or to simply learn the basics of how Neural Networks operate."
      ],
      "metadata": {
        "id": "LN2GU9BHpCh-"
      }
    },
    {
      "cell_type": "markdown",
      "source": [
        "The goal is to classify different types of wine. Let's start by downloading the dataset:"
      ],
      "metadata": {
        "id": "Y4BEcUWwqTc_"
      }
    },
    {
      "cell_type": "code",
      "execution_count": null,
      "metadata": {
        "colab": {
          "base_uri": "https://localhost:8080/"
        },
        "id": "jg2EIfGvntYR",
        "outputId": "22dfeba6-c92c-4eb8-ee40-37dfffdd9170"
      },
      "outputs": [
        {
          "output_type": "stream",
          "name": "stdout",
          "text": [
            "--2022-03-14 19:01:42--  https://storage.googleapis.com/nicksdemobucket/wines.csv\n",
            "Resolving storage.googleapis.com (storage.googleapis.com)... 74.125.197.128, 74.125.135.128, 74.125.195.128, ...\n",
            "Connecting to storage.googleapis.com (storage.googleapis.com)|74.125.197.128|:443... connected.\n",
            "HTTP request sent, awaiting response... 200 OK\n",
            "Length: 10957 (11K) [application/octet-stream]\n",
            "Saving to: ‘wines.csv.7’\n",
            "\n",
            "\rwines.csv.7           0%[                    ]       0  --.-KB/s               \rwines.csv.7         100%[===================>]  10.70K  --.-KB/s    in 0s      \n",
            "\n",
            "2022-03-14 19:01:42 (44.9 MB/s) - ‘wines.csv.7’ saved [10957/10957]\n",
            "\n"
          ]
        }
      ],
      "source": [
        "!wget https://storage.googleapis.com/nicksdemobucket/wines.csv"
      ]
    },
    {
      "cell_type": "markdown",
      "source": [
        "Pre-Processing stage:"
      ],
      "metadata": {
        "id": "SDrmjZPdr3ri"
      }
    },
    {
      "cell_type": "markdown",
      "source": [
        "Checking the data that we are going to work with. Observations under 'Class' column are our target variable."
      ],
      "metadata": {
        "id": "hyY4guygqa2t"
      }
    },
    {
      "cell_type": "code",
      "execution_count": null,
      "metadata": {
        "colab": {
          "base_uri": "https://localhost:8080/",
          "height": 287
        },
        "id": "GJT2JvLDnxfB",
        "outputId": "4e7a1417-90c8-4dd5-e7f1-571eba244f90"
      },
      "outputs": [
        {
          "output_type": "execute_result",
          "data": {
            "text/plain": [
              "   Class  Alcohol  Malic_acid   Ash  Alcalinity_of_ash  Magnesium  \\\n",
              "0      1    14.23        1.71  2.43               15.6        127   \n",
              "1      1    13.20        1.78  2.14               11.2        100   \n",
              "2      1    13.16        2.36  2.67               18.6        101   \n",
              "3      1    14.37        1.95  2.50               16.8        113   \n",
              "4      1    13.24        2.59  2.87               21.0        118   \n",
              "\n",
              "   Total_phenols  Flavanoids  Nonflavanoid_phenols  Proanthocyanins  \\\n",
              "0           2.80        3.06                  0.28             2.29   \n",
              "1           2.65        2.76                  0.26             1.28   \n",
              "2           2.80        3.24                  0.30             2.81   \n",
              "3           3.85        3.49                  0.24             2.18   \n",
              "4           2.80        2.69                  0.39             1.82   \n",
              "\n",
              "   Color_intensity   Hue  OD280-OD315_of_diluted_wines  Proline  \n",
              "0             5.64  1.04                          3.92     1065  \n",
              "1             4.38  1.05                          3.40     1050  \n",
              "2             5.68  1.03                          3.17     1185  \n",
              "3             7.80  0.86                          3.45     1480  \n",
              "4             4.32  1.04                          2.93      735  "
            ],
            "text/html": [
              "\n",
              "  <div id=\"df-2b0bcddc-3487-4131-b08c-a8b423d505b0\">\n",
              "    <div class=\"colab-df-container\">\n",
              "      <div>\n",
              "<style scoped>\n",
              "    .dataframe tbody tr th:only-of-type {\n",
              "        vertical-align: middle;\n",
              "    }\n",
              "\n",
              "    .dataframe tbody tr th {\n",
              "        vertical-align: top;\n",
              "    }\n",
              "\n",
              "    .dataframe thead th {\n",
              "        text-align: right;\n",
              "    }\n",
              "</style>\n",
              "<table border=\"1\" class=\"dataframe\">\n",
              "  <thead>\n",
              "    <tr style=\"text-align: right;\">\n",
              "      <th></th>\n",
              "      <th>Class</th>\n",
              "      <th>Alcohol</th>\n",
              "      <th>Malic_acid</th>\n",
              "      <th>Ash</th>\n",
              "      <th>Alcalinity_of_ash</th>\n",
              "      <th>Magnesium</th>\n",
              "      <th>Total_phenols</th>\n",
              "      <th>Flavanoids</th>\n",
              "      <th>Nonflavanoid_phenols</th>\n",
              "      <th>Proanthocyanins</th>\n",
              "      <th>Color_intensity</th>\n",
              "      <th>Hue</th>\n",
              "      <th>OD280-OD315_of_diluted_wines</th>\n",
              "      <th>Proline</th>\n",
              "    </tr>\n",
              "  </thead>\n",
              "  <tbody>\n",
              "    <tr>\n",
              "      <th>0</th>\n",
              "      <td>1</td>\n",
              "      <td>14.23</td>\n",
              "      <td>1.71</td>\n",
              "      <td>2.43</td>\n",
              "      <td>15.6</td>\n",
              "      <td>127</td>\n",
              "      <td>2.80</td>\n",
              "      <td>3.06</td>\n",
              "      <td>0.28</td>\n",
              "      <td>2.29</td>\n",
              "      <td>5.64</td>\n",
              "      <td>1.04</td>\n",
              "      <td>3.92</td>\n",
              "      <td>1065</td>\n",
              "    </tr>\n",
              "    <tr>\n",
              "      <th>1</th>\n",
              "      <td>1</td>\n",
              "      <td>13.20</td>\n",
              "      <td>1.78</td>\n",
              "      <td>2.14</td>\n",
              "      <td>11.2</td>\n",
              "      <td>100</td>\n",
              "      <td>2.65</td>\n",
              "      <td>2.76</td>\n",
              "      <td>0.26</td>\n",
              "      <td>1.28</td>\n",
              "      <td>4.38</td>\n",
              "      <td>1.05</td>\n",
              "      <td>3.40</td>\n",
              "      <td>1050</td>\n",
              "    </tr>\n",
              "    <tr>\n",
              "      <th>2</th>\n",
              "      <td>1</td>\n",
              "      <td>13.16</td>\n",
              "      <td>2.36</td>\n",
              "      <td>2.67</td>\n",
              "      <td>18.6</td>\n",
              "      <td>101</td>\n",
              "      <td>2.80</td>\n",
              "      <td>3.24</td>\n",
              "      <td>0.30</td>\n",
              "      <td>2.81</td>\n",
              "      <td>5.68</td>\n",
              "      <td>1.03</td>\n",
              "      <td>3.17</td>\n",
              "      <td>1185</td>\n",
              "    </tr>\n",
              "    <tr>\n",
              "      <th>3</th>\n",
              "      <td>1</td>\n",
              "      <td>14.37</td>\n",
              "      <td>1.95</td>\n",
              "      <td>2.50</td>\n",
              "      <td>16.8</td>\n",
              "      <td>113</td>\n",
              "      <td>3.85</td>\n",
              "      <td>3.49</td>\n",
              "      <td>0.24</td>\n",
              "      <td>2.18</td>\n",
              "      <td>7.80</td>\n",
              "      <td>0.86</td>\n",
              "      <td>3.45</td>\n",
              "      <td>1480</td>\n",
              "    </tr>\n",
              "    <tr>\n",
              "      <th>4</th>\n",
              "      <td>1</td>\n",
              "      <td>13.24</td>\n",
              "      <td>2.59</td>\n",
              "      <td>2.87</td>\n",
              "      <td>21.0</td>\n",
              "      <td>118</td>\n",
              "      <td>2.80</td>\n",
              "      <td>2.69</td>\n",
              "      <td>0.39</td>\n",
              "      <td>1.82</td>\n",
              "      <td>4.32</td>\n",
              "      <td>1.04</td>\n",
              "      <td>2.93</td>\n",
              "      <td>735</td>\n",
              "    </tr>\n",
              "  </tbody>\n",
              "</table>\n",
              "</div>\n",
              "      <button class=\"colab-df-convert\" onclick=\"convertToInteractive('df-2b0bcddc-3487-4131-b08c-a8b423d505b0')\"\n",
              "              title=\"Convert this dataframe to an interactive table.\"\n",
              "              style=\"display:none;\">\n",
              "        \n",
              "  <svg xmlns=\"http://www.w3.org/2000/svg\" height=\"24px\"viewBox=\"0 0 24 24\"\n",
              "       width=\"24px\">\n",
              "    <path d=\"M0 0h24v24H0V0z\" fill=\"none\"/>\n",
              "    <path d=\"M18.56 5.44l.94 2.06.94-2.06 2.06-.94-2.06-.94-.94-2.06-.94 2.06-2.06.94zm-11 1L8.5 8.5l.94-2.06 2.06-.94-2.06-.94L8.5 2.5l-.94 2.06-2.06.94zm10 10l.94 2.06.94-2.06 2.06-.94-2.06-.94-.94-2.06-.94 2.06-2.06.94z\"/><path d=\"M17.41 7.96l-1.37-1.37c-.4-.4-.92-.59-1.43-.59-.52 0-1.04.2-1.43.59L10.3 9.45l-7.72 7.72c-.78.78-.78 2.05 0 2.83L4 21.41c.39.39.9.59 1.41.59.51 0 1.02-.2 1.41-.59l7.78-7.78 2.81-2.81c.8-.78.8-2.07 0-2.86zM5.41 20L4 18.59l7.72-7.72 1.47 1.35L5.41 20z\"/>\n",
              "  </svg>\n",
              "      </button>\n",
              "      \n",
              "  <style>\n",
              "    .colab-df-container {\n",
              "      display:flex;\n",
              "      flex-wrap:wrap;\n",
              "      gap: 12px;\n",
              "    }\n",
              "\n",
              "    .colab-df-convert {\n",
              "      background-color: #E8F0FE;\n",
              "      border: none;\n",
              "      border-radius: 50%;\n",
              "      cursor: pointer;\n",
              "      display: none;\n",
              "      fill: #1967D2;\n",
              "      height: 32px;\n",
              "      padding: 0 0 0 0;\n",
              "      width: 32px;\n",
              "    }\n",
              "\n",
              "    .colab-df-convert:hover {\n",
              "      background-color: #E2EBFA;\n",
              "      box-shadow: 0px 1px 2px rgba(60, 64, 67, 0.3), 0px 1px 3px 1px rgba(60, 64, 67, 0.15);\n",
              "      fill: #174EA6;\n",
              "    }\n",
              "\n",
              "    [theme=dark] .colab-df-convert {\n",
              "      background-color: #3B4455;\n",
              "      fill: #D2E3FC;\n",
              "    }\n",
              "\n",
              "    [theme=dark] .colab-df-convert:hover {\n",
              "      background-color: #434B5C;\n",
              "      box-shadow: 0px 1px 3px 1px rgba(0, 0, 0, 0.15);\n",
              "      filter: drop-shadow(0px 1px 2px rgba(0, 0, 0, 0.3));\n",
              "      fill: #FFFFFF;\n",
              "    }\n",
              "  </style>\n",
              "\n",
              "      <script>\n",
              "        const buttonEl =\n",
              "          document.querySelector('#df-2b0bcddc-3487-4131-b08c-a8b423d505b0 button.colab-df-convert');\n",
              "        buttonEl.style.display =\n",
              "          google.colab.kernel.accessAllowed ? 'block' : 'none';\n",
              "\n",
              "        async function convertToInteractive(key) {\n",
              "          const element = document.querySelector('#df-2b0bcddc-3487-4131-b08c-a8b423d505b0');\n",
              "          const dataTable =\n",
              "            await google.colab.kernel.invokeFunction('convertToInteractive',\n",
              "                                                     [key], {});\n",
              "          if (!dataTable) return;\n",
              "\n",
              "          const docLinkHtml = 'Like what you see? Visit the ' +\n",
              "            '<a target=\"_blank\" href=https://colab.research.google.com/notebooks/data_table.ipynb>data table notebook</a>'\n",
              "            + ' to learn more about interactive tables.';\n",
              "          element.innerHTML = '';\n",
              "          dataTable['output_type'] = 'display_data';\n",
              "          await google.colab.output.renderOutput(dataTable, element);\n",
              "          const docLink = document.createElement('div');\n",
              "          docLink.innerHTML = docLinkHtml;\n",
              "          element.appendChild(docLink);\n",
              "        }\n",
              "      </script>\n",
              "    </div>\n",
              "  </div>\n",
              "  "
            ]
          },
          "metadata": {},
          "execution_count": 2
        }
      ],
      "source": [
        "import pandas as pd\n",
        "df = pd.read_csv('wines.csv')\n",
        "df.head()"
      ]
    },
    {
      "cell_type": "markdown",
      "source": [
        "Importing TensorFlow and Keras API for Neural Network:"
      ],
      "metadata": {
        "id": "T-IBTlNYrINj"
      }
    },
    {
      "cell_type": "code",
      "execution_count": null,
      "metadata": {
        "id": "xoUUnFMLnx2V"
      },
      "outputs": [],
      "source": [
        "import tensorflow as tf\n",
        "from tensorflow import keras"
      ]
    },
    {
      "cell_type": "code",
      "execution_count": null,
      "metadata": {
        "colab": {
          "base_uri": "https://localhost:8080/",
          "height": 35
        },
        "id": "LQi0WuS5nzl_",
        "outputId": "c7aa8152-1921-4069-f16e-e67839f8641f"
      },
      "outputs": [
        {
          "output_type": "execute_result",
          "data": {
            "text/plain": [
              "'2.8.0'"
            ],
            "application/vnd.google.colaboratory.intrinsic+json": {
              "type": "string"
            }
          },
          "metadata": {},
          "execution_count": 4
        }
      ],
      "source": [
        "tf.__version__"
      ]
    },
    {
      "cell_type": "markdown",
      "source": [
        "Changing the class range from 1-3 to 0-2. This is important for the Network to work:"
      ],
      "metadata": {
        "id": "qr6Ed1fxrT48"
      }
    },
    {
      "cell_type": "code",
      "execution_count": null,
      "metadata": {
        "id": "1eel7_2AwRq1"
      },
      "outputs": [],
      "source": [
        "df['Class'] = df['Class'].apply(lambda x: 0 if x==1 else (1 if x==2 else 2))"
      ]
    },
    {
      "cell_type": "code",
      "execution_count": null,
      "metadata": {
        "colab": {
          "base_uri": "https://localhost:8080/"
        },
        "id": "WMC2hL5LrOpv",
        "outputId": "aefdc993-03b3-4ee9-d37a-1e728896b2f7"
      },
      "outputs": [
        {
          "output_type": "execute_result",
          "data": {
            "text/plain": [
              "1    71\n",
              "0    59\n",
              "2    48\n",
              "Name: Class, dtype: int64"
            ]
          },
          "metadata": {},
          "execution_count": 6
        }
      ],
      "source": [
        "df[\"Class\"].value_counts()"
      ]
    },
    {
      "cell_type": "markdown",
      "source": [
        "Defining a target variable, converting it to an array and standardizing it:"
      ],
      "metadata": {
        "id": "yQoOIvjKrmjm"
      }
    },
    {
      "cell_type": "code",
      "execution_count": null,
      "metadata": {
        "id": "UT9cdKCIRgiW"
      },
      "outputs": [],
      "source": [
        "X = df.drop(columns=['Class'])\n",
        "y = df['Class']"
      ]
    },
    {
      "cell_type": "code",
      "execution_count": null,
      "metadata": {
        "id": "ayk4wOYPRjbB"
      },
      "outputs": [],
      "source": [
        "def convert_to_array(input):\n",
        "  result = input.to_numpy()\n",
        "  return result\n",
        "\n",
        "Xr = convert_to_array(X)\n",
        "yr = convert_to_array(y)"
      ]
    },
    {
      "cell_type": "code",
      "execution_count": null,
      "metadata": {
        "id": "tiV0Vov8RoqR"
      },
      "outputs": [],
      "source": [
        "from sklearn.preprocessing import StandardScaler\n",
        "\n",
        "scaler = StandardScaler()\n",
        "X_std = scaler.fit_transform(Xr)"
      ]
    },
    {
      "cell_type": "markdown",
      "metadata": {
        "id": "-ZGD7SrARyoQ"
      },
      "source": [
        "Using Keras to create a Neural Network:"
      ]
    },
    {
      "cell_type": "markdown",
      "source": [
        "Here, we employ 2 hidden layers. Number 3 in the output layer stands for 3 classes that we will classify the wine in. Numbers in the hidden layers can be modified depending on the preference:"
      ],
      "metadata": {
        "id": "fj0Z_LSBrvck"
      }
    },
    {
      "cell_type": "code",
      "execution_count": null,
      "metadata": {
        "id": "mDFK2-npRwfR"
      },
      "outputs": [],
      "source": [
        "input_ = keras.layers.Input(shape=X_std.shape[1:])\n",
        "hidden1 = keras.layers.Dense(30, activation=\"relu\")(input_)\n",
        "hidden2 = keras.layers.Dense(30, activation=\"relu\")(hidden1)\n",
        "output = keras.layers.Dense(3, activation = \"softmax\")(hidden2) \n",
        "\n",
        "model = keras.models.Model(inputs=[input_], outputs=[output])"
      ]
    },
    {
      "cell_type": "code",
      "execution_count": null,
      "metadata": {
        "colab": {
          "base_uri": "https://localhost:8080/"
        },
        "id": "VCXd76JoSaQP",
        "outputId": "9ecf7aaa-33f2-42f5-df23-7ef59d661950"
      },
      "outputs": [
        {
          "output_type": "stream",
          "name": "stdout",
          "text": [
            "Model: \"model\"\n",
            "_________________________________________________________________\n",
            " Layer (type)                Output Shape              Param #   \n",
            "=================================================================\n",
            " input_1 (InputLayer)        [(None, 13)]              0         \n",
            "                                                                 \n",
            " dense (Dense)               (None, 30)                420       \n",
            "                                                                 \n",
            " dense_1 (Dense)             (None, 30)                930       \n",
            "                                                                 \n",
            " dense_2 (Dense)             (None, 3)                 93        \n",
            "                                                                 \n",
            "=================================================================\n",
            "Total params: 1,443\n",
            "Trainable params: 1,443\n",
            "Non-trainable params: 0\n",
            "_________________________________________________________________\n"
          ]
        }
      ],
      "source": [
        "model.summary()\n"
      ]
    },
    {
      "cell_type": "markdown",
      "source": [
        "Since we are using set categories, categorical crossenthropy is a better option as opposed to using MSE for compiling"
      ],
      "metadata": {
        "id": "9OsqQ-U8r-c7"
      }
    },
    {
      "cell_type": "code",
      "execution_count": null,
      "metadata": {
        "id": "jGMdkFAeScEq"
      },
      "outputs": [],
      "source": [
        "model.compile(loss=\"sparse_categorical_crossentropy\",\n",
        "              optimizer=keras.optimizers.SGD(),\n",
        "              metrics=[\"accuracy\"])"
      ]
    },
    {
      "cell_type": "markdown",
      "source": [
        "both epochs and validation split (train-test split) are arbitrary and affect the variables we see in history:"
      ],
      "metadata": {
        "id": "Trovv_XstdeI"
      }
    },
    {
      "cell_type": "code",
      "execution_count": null,
      "metadata": {
        "colab": {
          "base_uri": "https://localhost:8080/"
        },
        "id": "xbeimjGmZ8gj",
        "outputId": "de069fdd-a08b-4fdb-f318-3a2b3208de3d"
      },
      "outputs": [
        {
          "output_type": "stream",
          "name": "stdout",
          "text": [
            "Epoch 1/25\n",
            "4/4 [==============================] - 1s 186ms/step - loss: 1.0588 - accuracy: 0.3952 - val_loss: 0.9479 - val_accuracy: 0.6481\n",
            "Epoch 2/25\n",
            "4/4 [==============================] - 0s 26ms/step - loss: 0.9996 - accuracy: 0.4919 - val_loss: 0.9848 - val_accuracy: 0.5370\n",
            "Epoch 3/25\n",
            "4/4 [==============================] - 0s 22ms/step - loss: 0.9457 - accuracy: 0.6290 - val_loss: 1.0220 - val_accuracy: 0.4815\n",
            "Epoch 4/25\n",
            "4/4 [==============================] - 0s 23ms/step - loss: 0.8946 - accuracy: 0.7097 - val_loss: 1.0593 - val_accuracy: 0.3519\n",
            "Epoch 5/25\n",
            "4/4 [==============================] - 0s 25ms/step - loss: 0.8476 - accuracy: 0.7742 - val_loss: 1.0959 - val_accuracy: 0.2037\n",
            "Epoch 6/25\n",
            "4/4 [==============================] - 0s 19ms/step - loss: 0.8042 - accuracy: 0.8306 - val_loss: 1.1323 - val_accuracy: 0.1852\n",
            "Epoch 7/25\n",
            "4/4 [==============================] - 0s 21ms/step - loss: 0.7624 - accuracy: 0.8629 - val_loss: 1.1690 - val_accuracy: 0.0926\n",
            "Epoch 8/25\n",
            "4/4 [==============================] - 0s 31ms/step - loss: 0.7234 - accuracy: 0.8952 - val_loss: 1.2059 - val_accuracy: 0.1111\n",
            "Epoch 9/25\n",
            "4/4 [==============================] - 0s 17ms/step - loss: 0.6870 - accuracy: 0.9113 - val_loss: 1.2420 - val_accuracy: 0.1111\n",
            "Epoch 10/25\n",
            "4/4 [==============================] - 0s 15ms/step - loss: 0.6518 - accuracy: 0.9274 - val_loss: 1.2781 - val_accuracy: 0.1296\n",
            "Epoch 11/25\n",
            "4/4 [==============================] - 0s 28ms/step - loss: 0.6190 - accuracy: 0.9355 - val_loss: 1.3137 - val_accuracy: 0.1111\n",
            "Epoch 12/25\n",
            "4/4 [==============================] - 0s 26ms/step - loss: 0.5881 - accuracy: 0.9355 - val_loss: 1.3495 - val_accuracy: 0.1111\n",
            "Epoch 13/25\n",
            "4/4 [==============================] - 0s 20ms/step - loss: 0.5588 - accuracy: 0.9435 - val_loss: 1.3845 - val_accuracy: 0.1111\n",
            "Epoch 14/25\n",
            "4/4 [==============================] - 0s 18ms/step - loss: 0.5308 - accuracy: 0.9516 - val_loss: 1.4194 - val_accuracy: 0.1111\n",
            "Epoch 15/25\n",
            "4/4 [==============================] - 0s 45ms/step - loss: 0.5043 - accuracy: 0.9516 - val_loss: 1.4538 - val_accuracy: 0.0926\n",
            "Epoch 16/25\n",
            "4/4 [==============================] - 0s 18ms/step - loss: 0.4804 - accuracy: 0.9597 - val_loss: 1.4881 - val_accuracy: 0.0926\n",
            "Epoch 17/25\n",
            "4/4 [==============================] - 0s 23ms/step - loss: 0.4567 - accuracy: 0.9758 - val_loss: 1.5223 - val_accuracy: 0.0926\n",
            "Epoch 18/25\n",
            "4/4 [==============================] - 0s 20ms/step - loss: 0.4346 - accuracy: 0.9758 - val_loss: 1.5558 - val_accuracy: 0.0926\n",
            "Epoch 19/25\n",
            "4/4 [==============================] - 0s 27ms/step - loss: 0.4141 - accuracy: 0.9758 - val_loss: 1.5884 - val_accuracy: 0.0926\n",
            "Epoch 20/25\n",
            "4/4 [==============================] - 0s 19ms/step - loss: 0.3944 - accuracy: 0.9758 - val_loss: 1.6212 - val_accuracy: 0.1111\n",
            "Epoch 21/25\n",
            "4/4 [==============================] - 0s 14ms/step - loss: 0.3762 - accuracy: 0.9758 - val_loss: 1.6534 - val_accuracy: 0.1111\n",
            "Epoch 22/25\n",
            "4/4 [==============================] - 0s 23ms/step - loss: 0.3589 - accuracy: 0.9758 - val_loss: 1.6852 - val_accuracy: 0.1111\n",
            "Epoch 23/25\n",
            "4/4 [==============================] - 0s 15ms/step - loss: 0.3431 - accuracy: 0.9758 - val_loss: 1.7163 - val_accuracy: 0.1111\n",
            "Epoch 24/25\n",
            "4/4 [==============================] - 0s 20ms/step - loss: 0.3277 - accuracy: 0.9758 - val_loss: 1.7472 - val_accuracy: 0.1111\n",
            "Epoch 25/25\n",
            "4/4 [==============================] - 0s 47ms/step - loss: 0.3134 - accuracy: 0.9758 - val_loss: 1.7777 - val_accuracy: 0.1111\n"
          ]
        }
      ],
      "source": [
        "history = model.fit(X_std, yr, epochs=25, validation_split = 0.3)"
      ]
    },
    {
      "cell_type": "markdown",
      "source": [
        "This is the visual representation of the neural network we created:"
      ],
      "metadata": {
        "id": "jKjMkbeitxjo"
      }
    },
    {
      "cell_type": "code",
      "execution_count": null,
      "metadata": {
        "colab": {
          "base_uri": "https://localhost:8080/",
          "height": 422
        },
        "id": "CbE3smN1Seb9",
        "outputId": "80d6d465-010d-4e1c-94e0-3d02a3c376f7"
      },
      "outputs": [
        {
          "output_type": "execute_result",
          "data": {
            "text/plain": [
              "<IPython.core.display.Image object>"
            ],
            "image/png": "[encoded data removed]"
          },
          "metadata": {},
          "execution_count": 14
        }
      ],
      "source": [
        "keras.utils.plot_model(model, \"test.png\", show_shapes=True)"
      ]
    },
    {
      "cell_type": "code",
      "execution_count": null,
      "metadata": {
        "colab": {
          "base_uri": "https://localhost:8080/"
        },
        "id": "njjsA3kZSk5L",
        "outputId": "40928233-9fba-480c-fdf0-9c287e415ba7"
      },
      "outputs": [
        {
          "output_type": "execute_result",
          "data": {
            "text/plain": [
              "{'epochs': 25, 'steps': 4, 'verbose': 1}"
            ]
          },
          "metadata": {},
          "execution_count": 15
        }
      ],
      "source": [
        "history.params\n"
      ]
    },
    {
      "cell_type": "code",
      "execution_count": null,
      "metadata": {
        "colab": {
          "base_uri": "https://localhost:8080/"
        },
        "id": "MkppbnfPT3Hw",
        "outputId": "900b3bd3-d770-40ac-a14f-4476937634f7"
      },
      "outputs": [
        {
          "output_type": "execute_result",
          "data": {
            "text/plain": [
              "dict_keys(['loss', 'accuracy', 'val_loss', 'val_accuracy'])"
            ]
          },
          "metadata": {},
          "execution_count": 16
        }
      ],
      "source": [
        "history.history.keys()\n"
      ]
    },
    {
      "cell_type": "markdown",
      "source": [
        "Finally, this is the visual representation of the performance of the Neural Network. Ideally, we want loss to keep going down with each consecutive epoch we use. Obviously, it is good for accuracy to be at a high level as well:"
      ],
      "metadata": {
        "id": "SbaIS9RNuqbT"
      }
    },
    {
      "cell_type": "code",
      "execution_count": null,
      "metadata": {
        "colab": {
          "base_uri": "https://localhost:8080/",
          "height": 320
        },
        "id": "TtugShTXT4Uo",
        "outputId": "555f5b08-4c87-4371-f082-52363fb06758"
      },
      "outputs": [
        {
          "output_type": "display_data",
          "data": {
            "text/plain": [
              "<Figure size 576x360 with 1 Axes>"
            ],
            "image/png": "[encoded data removed]"
          },
          "metadata": {
            "needs_background": "light"
          }
        }
      ],
      "source": [
        "import matplotlib.pyplot as plt\n",
        "\n",
        "pd.DataFrame(history.history).plot(figsize=(8, 5))\n",
        "plt.grid(True)\n",
        "plt.gca()\n",
        "plt.show()"
      ]
    },
    {
      "cell_type": "markdown",
      "source": [
        "Thank you!"
      ],
      "metadata": {
        "id": "LRv5MePlu_DG"
      }
    }
  ],
  "metadata": {
    "colab": {
      "name": "The basics of Neural Networks.ipynb",
      "provenance": [],
      "collapsed_sections": []
    },
    "kernelspec": {
      "display_name": "Python 3",
      "name": "python3"
    },
    "language_info": {
      "name": "python"
    }
  },
  "nbformat": 4,
  "nbformat_minor": 0
}